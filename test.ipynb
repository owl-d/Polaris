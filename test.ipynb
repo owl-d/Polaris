{
 "cells": [
  {
   "cell_type": "code",
   "execution_count": 39,
   "metadata": {},
   "outputs": [],
   "source": [
    "import numpy as np\n",
    "import matplotlib.pyplot as plt\n",
    "import math"
   ]
  },
  {
   "cell_type": "code",
   "execution_count": 40,
   "metadata": {},
   "outputs": [],
   "source": [
    "class Quaternion:\n",
    "    def __init__(self, q):\n",
    "        self.x = q[0]\n",
    "        self.y = q[1]\n",
    "        self.z = q[2]\n",
    "        self.w = q[3]\n",
    "\n",
    "    def __repr__(self):\n",
    "        return \"quaternion {} {}i {}j {}k\".format(self.w, self.x, self.y, self.z)\n",
    "\n",
    "    def __str__(self):\n",
    "        return \"quaternion {} {}i {}j {}k\".format(self.w, self.x, self.y, self.z)\n",
    "\n",
    "    def __mul__(self, other):\n",
    "        return Quaternion([self.w * other.x + self.x * other.w + self.y * other.z - self.z * other.y,\n",
    "                           self.w * other.y - self.x * other.z + self.y * other.w + self.z * other.x,\n",
    "                           self.w * other.z + self.x * other.y - self.y * other.x + self.z * other.w,\n",
    "                           self.w * other.w - self.x * other.x - self.y * other.y - self.z * other.z])\n",
    "\n",
    "    def __pow__(self, power, modulo=None):\n",
    "        if power == -1:\n",
    "            return Quaternion([-self.x, -self.y, -self.z, self.w])\n",
    "\n",
    "        norm = self.norm()\n",
    "        if norm == 0:\n",
    "            return Quaternion([self.x, self.y, self.z, self.w])\n",
    "\n",
    "        norm_v = np.sqrt(self.x ** 2 + self.y ** 2 + self.z ** 2)\n",
    "        if 0.99 <= norm <= 1:\n",
    "            phi = np.arccos(self.w)\n",
    "            w = np.cos(power * phi)\n",
    "            x = np.sin(power * phi) * self.x / norm_v\n",
    "            y = np.sin(power * phi) * self.y / norm_v\n",
    "            z = np.sin(power * phi) * self.z / norm_v\n",
    "        else:\n",
    "            mul = norm ** power\n",
    "            phi = np.arccos(self.w / norm)\n",
    "            w = mul * np.cos(power * phi)\n",
    "            x = mul * np.sin(power * phi) * self.x / norm_v\n",
    "            y = mul * np.sin(power * phi) * self.y / norm_v\n",
    "            z = mul * np.sin(power * phi) * self.z / norm_v\n",
    "        return Quaternion([x, y, z, w])\n",
    "\n",
    "    def rotation(self):\n",
    "        return np.array([[2 * (self.w ** 2 + self.x ** 2) - 1, 2 * (self.x * self.y - self.w * self.z), 2 * (self.x * self.z + self.w * self.y)],\n",
    "                         [2 * (self.x * self.y + self.w * self.z), 2 * (self.w ** 2 + self.y ** 2) - 1, 2 * (self.y * self.z - self.w * self.x)],\n",
    "                         [2 * (self.x * self.z - self.w * self.y), 2 * (self.y * self.z + self.w * self.x), 2 * (self.w ** 2 + self.z ** 2) - 1]])\n",
    "    \n",
    "    def inv_rotation(self):\n",
    "        return np.array([[2 * (self.w ** 2 + self.x ** 2) - 1, 2 * (self.x * self.y + self.w * self.z), 2 * (self.x * self.z - self.w * self.y)],\n",
    "                         [2 * (self.x * self.y - self.w * self.z), 2 * (self.w ** 2 + self.y ** 2) - 1, 2 * (self.y * self.z + self.w * self.x)],\n",
    "                         [2 * (self.x * self.z + self.w * self.y), 2 * (self.y * self.z - self.w * self.x), 2 * (self.w ** 2 + self.z ** 2) - 1]])\n",
    "\n",
    "    def norm(self):\n",
    "        return np.sqrt(self.x ** 2 + self.y ** 2 + self.z ** 2 + self.w ** 2)\n",
    "    \n",
    "    def get_element(self):\n",
    "        return np.array([self.x, self.y, self.z, self.w])\n",
    "    \n",
    "    def normalize(self):\n",
    "        norm = self.norm()\n",
    "        return np.array([self.x/norm, self.y/norm, self.z/norm, self.w/norm])\n",
    "    \n",
    "    def quaternion_to_euler_angle(self):\n",
    "        ysqr = self.y * self.y\n",
    "\n",
    "        t0 = +2.0 * (self.w * self.x + self.y * self.z)\n",
    "        t1 = +1.0 - 2.0 * (self.x * self.x + ysqr)\n",
    "        X = math.degrees(math.atan2(t0, t1))\n",
    "\n",
    "        t2 = +2.0 * (self.w * self.y - self.z * self.x)\n",
    "        t2 = +1.0 if t2 > +1.0 else t2\n",
    "        t2 = -1.0 if t2 < -1.0 else t2\n",
    "        Y = math.degrees(math.asin(t2))\n",
    "\n",
    "        t3 = +2.0 * (self.w * self.z + self.x * self.y)\n",
    "        t4 = +1.0 - 2.0 * (ysqr + self.z * self.z)\n",
    "        Z = math.degrees(math.atan2(t3, t4))\n",
    "\n",
    "        return X, Y, Z\n"
   ]
  },
  {
   "cell_type": "code",
   "execution_count": 41,
   "metadata": {},
   "outputs": [],
   "source": [
    "gt_path=\"/media/doyu/Junu_SSD/data/Hilti/2022/exp04_construction_upper_level.txt\"\n",
    "test_path=\"/home/doyu/doyu_ws/Polaris/odometry/A-LOAM/A-LOAM_ex4.txt\""
   ]
  },
  {
   "cell_type": "code",
   "execution_count": 42,
   "metadata": {},
   "outputs": [
    {
     "name": "stdout",
     "output_type": "stream",
     "text": [
      "(1257, 8)\n",
      "(927, 8)\n"
     ]
    }
   ],
   "source": [
    "gt = np.loadtxt(gt_path)\n",
    "test = np.loadtxt(test_path)\n",
    "print(gt.shape)\n",
    "print(test.shape)"
   ]
  },
  {
   "cell_type": "code",
   "execution_count": null,
   "metadata": {},
   "outputs": [],
   "source": []
  },
  {
   "cell_type": "code",
   "execution_count": 43,
   "metadata": {},
   "outputs": [],
   "source": [
    "ori = []\n",
    "for quat in gt_ori:\n",
    "    cor_orientation = Quaternion([quat[0], quat[1], quat[2], quat[3]])* Quaternion(gt_ori[0,:])**-1\n",
    "    cor_orientation = cor_orientation.quaternion_to_euler_angle()\n",
    "    ori.append(cor_orientation)\n",
    "\n",
    "ori = np.asarray(ori)"
   ]
  },
  {
   "cell_type": "code",
   "execution_count": 47,
   "metadata": {},
   "outputs": [
    {
     "data": {
      "image/png": "[encoded data removed]",
      "text/plain": [
       "<Figure size 432x288 with 1 Axes>"
      ]
     },
     "metadata": {
      "needs_background": "light"
     },
     "output_type": "display_data"
    }
   ],
   "source": [
    "# plt.plot(gt_ori[:,0], lable=\"original\")\n",
    "plt.plot(ori[:,2], label=\"transformed\")\n",
    "plt.legend()\n",
    "plt.show()"
   ]
  }
 ],
 "metadata": {
  "kernelspec": {
   "display_name": "base",
   "language": "python",
   "name": "python3"
  },
  "language_info": {
   "codemirror_mode": {
    "name": "ipython",
    "version": 3
   },
   "file_extension": ".py",
   "mimetype": "text/x-python",
   "name": "python",
   "nbconvert_exporter": "python",
   "pygments_lexer": "ipython3",
   "version": "3.9.12"
  },
  "orig_nbformat": 4
 },
 "nbformat": 4,
 "nbformat_minor": 2
}
